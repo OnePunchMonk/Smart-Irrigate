{
 "cells": [
  {
   "cell_type": "code",
   "execution_count": 1,
   "id": "45d11928",
   "metadata": {
    "_cell_guid": "b1076dfc-b9ad-4769-8c92-a6c4dae69d19",
    "_uuid": "8f2839f25d086af736a60e9eeb907d3b93b6e0e5",
    "execution": {
     "iopub.execute_input": "2025-04-19T04:48:13.590019Z",
     "iopub.status.busy": "2025-04-19T04:48:13.587938Z",
     "iopub.status.idle": "2025-04-19T04:48:20.871256Z",
     "shell.execute_reply": "2025-04-19T04:48:20.869485Z"
    },
    "papermill": {
     "duration": 7.290766,
     "end_time": "2025-04-19T04:48:20.873792",
     "exception": false,
     "start_time": "2025-04-19T04:48:13.583026",
     "status": "completed"
    },
    "tags": []
   },
   "outputs": [
    {
     "name": "stderr",
     "output_type": "stream",
     "text": [
      "── \u001b[1mAttaching core tidyverse packages\u001b[22m ──────────────────────── tidyverse 2.0.0 ──\n",
      "\u001b[32m✔\u001b[39m \u001b[34mdplyr    \u001b[39m 1.1.4     \u001b[32m✔\u001b[39m \u001b[34mreadr    \u001b[39m 2.1.5\n",
      "\u001b[32m✔\u001b[39m \u001b[34mforcats  \u001b[39m 1.0.0     \u001b[32m✔\u001b[39m \u001b[34mstringr  \u001b[39m 1.5.1\n",
      "\u001b[32m✔\u001b[39m \u001b[34mggplot2  \u001b[39m 3.5.1     \u001b[32m✔\u001b[39m \u001b[34mtibble   \u001b[39m 3.2.1\n",
      "\u001b[32m✔\u001b[39m \u001b[34mlubridate\u001b[39m 1.9.3     \u001b[32m✔\u001b[39m \u001b[34mtidyr    \u001b[39m 1.3.1\n",
      "\u001b[32m✔\u001b[39m \u001b[34mpurrr    \u001b[39m 1.0.2     \n"
     ]
    },
    {
     "name": "stderr",
     "output_type": "stream",
     "text": [
      "── \u001b[1mConflicts\u001b[22m ────────────────────────────────────────── tidyverse_conflicts() ──\n",
      "\u001b[31m✖\u001b[39m \u001b[34mdplyr\u001b[39m::\u001b[32mfilter()\u001b[39m masks \u001b[34mstats\u001b[39m::filter()\n",
      "\u001b[31m✖\u001b[39m \u001b[34mdplyr\u001b[39m::\u001b[32mlag()\u001b[39m    masks \u001b[34mstats\u001b[39m::lag()\n",
      "\u001b[36mℹ\u001b[39m Use the conflicted package (\u001b[3m\u001b[34m<http://conflicted.r-lib.org/>\u001b[39m\u001b[23m) to force all conflicts to become errors\n"
     ]
    },
    {
     "name": "stderr",
     "output_type": "stream",
     "text": [
      "Registered S3 method overwritten by 'GGally':\n",
      "  method from   \n",
      "  +.gg   ggplot2\n",
      "\n"
     ]
    },
    {
     "name": "stderr",
     "output_type": "stream",
     "text": [
      "corrplot 0.92 loaded\n",
      "\n"
     ]
    }
   ],
   "source": [
    "# Install packages if not already installed\n",
    "packages <- c(\"tidyverse\", \"skimr\", \"DataExplorer\", \"GGally\", \"corrplot\")\n",
    "new_packages <- packages[!(packages %in% installed.packages()[, \"Package\"])]\n",
    "if(length(new_packages)) install.packages(new_packages)\n",
    "\n",
    "# Load libraries\n",
    "library(tidyverse)\n",
    "library(skimr)\n",
    "library(DataExplorer)\n",
    "library(GGally)\n",
    "library(corrplot)\n"
   ]
  },
  {
   "cell_type": "code",
   "execution_count": 2,
   "id": "f80d3a05",
   "metadata": {
    "execution": {
     "iopub.execute_input": "2025-04-19T04:48:20.912506Z",
     "iopub.status.busy": "2025-04-19T04:48:20.881213Z",
     "iopub.status.idle": "2025-04-19T04:48:21.245223Z",
     "shell.execute_reply": "2025-04-19T04:48:21.243405Z"
    },
    "papermill": {
     "duration": 0.370772,
     "end_time": "2025-04-19T04:48:21.247536",
     "exception": true,
     "start_time": "2025-04-19T04:48:20.876764",
     "status": "failed"
    },
    "tags": []
   },
   "outputs": [
    {
     "name": "stdout",
     "output_type": "stream",
     "text": [
      "'data.frame':\t4688 obs. of  10 variables:\n",
      " $ id          : int  1 2 3 4 5 6 7 8 9 10 ...\n",
      " $ temperature : num  29.1 29.1 29.1 29.1 29 ...\n",
      " $ pressure    : num  9985 9984 9985 9984 9984 ...\n",
      " $ altitude    : num  -12.2 -12.2 -12.2 -12.2 -12.2 ...\n",
      " $ soilmiosture: int  377 379 376 377 379 376 380 380 380 379 ...\n",
      " $ note        : int  0 0 0 0 0 0 0 0 0 0 ...\n",
      " $ status      : int  0 0 0 0 0 0 0 0 0 0 ...\n",
      " $ class       : chr  \"Very Dry\" \"Very Dry\" \"Very Dry\" \"Very Dry\" ...\n",
      " $ date        : chr  \"08-10-2022\" \"08-10-2022\" \"08-10-2022\" \"08-10-2022\" ...\n",
      " $ time        : chr  \"22:06:24\" \"22:06:24\" \"22:06:24\" \"22:06:24\" ...\n"
     ]
    },
    {
     "data": {
      "text/plain": [
       "       id        temperature        pressure        altitude     \n",
       " Min.   :   1   Min.   : 27.97   Min.   :-2120   Min.   :-17.61  \n",
       " 1st Qu.:1173   1st Qu.: 28.63   1st Qu.: 9935   1st Qu.:-16.34  \n",
       " Median :2344   Median : 29.18   Median : 9970   Median :-13.47  \n",
       " Mean   :2344   Mean   : 29.60   Mean   : 9963   Mean   :-14.29  \n",
       " 3rd Qu.:3516   3rd Qu.: 29.99   3rd Qu.: 9976   3rd Qu.:-12.95  \n",
       " Max.   :4688   Max.   :178.70   Max.   :99931   Max.   :116.70  \n",
       "                                                 NA's   :6       \n",
       "  soilmiosture         note           status          class          \n",
       " Min.   :-243.0   Min.   :0.000   Min.   :0.0000   Length:4688       \n",
       " 1st Qu.: 171.0   1st Qu.:1.000   1st Qu.:0.0000   Class :character  \n",
       " Median : 233.0   Median :2.000   Median :1.0000   Mode  :character  \n",
       " Mean   : 243.7   Mean   :1.878   Mean   :0.7037                     \n",
       " 3rd Qu.: 326.0   3rd Qu.:3.000   3rd Qu.:1.0000                     \n",
       " Max.   : 480.0   Max.   :3.000   Max.   :1.0000                     \n",
       "                                                                     \n",
       "     date               time          \n",
       " Length:4688        Length:4688       \n",
       " Class :character   Class :character  \n",
       " Mode  :character   Mode  :character  \n",
       "                                      \n",
       "                                      \n",
       "                                      \n",
       "                                      "
      ]
     },
     "metadata": {},
     "output_type": "display_data"
    },
    {
     "name": "stdout",
     "output_type": "stream",
     "text": [
      "── Data Summary ────────────────────────\n",
      "                           Values\n",
      "Name                       data  \n",
      "Number of rows             4688  \n",
      "Number of columns          10    \n",
      "_______________________          \n",
      "Column type frequency:           \n",
      "  character                3     \n",
      "  numeric                  7     \n",
      "________________________         \n",
      "Group variables            None  \n",
      "\n",
      "── Variable type: character ────────────────────────────────────────────────────\n",
      "  skim_variable n_missing complete_rate min max empty n_unique whitespace\n",
      "\u001b[90m1\u001b[39m class                 0             1   3   8     0        4          0\n",
      "\u001b[90m2\u001b[39m date                  0             1  10  10     0        1          0\n",
      "\u001b[90m3\u001b[39m time                  0             1   8   8     0        1          0\n",
      "\n",
      "── Variable type: numeric ──────────────────────────────────────────────────────\n",
      "  skim_variable n_missing complete_rate     mean       sd      p0    p25    p50\n",
      "\u001b[90m1\u001b[39m id                    0         1     \u001b[4m2\u001b[24m344.    \u001b[4m1\u001b[24m353.        1   \u001b[4m1\u001b[24m173.  \u001b[4m2\u001b[24m344. \n",
      "\u001b[90m2\u001b[39m temperature           0         1       29.6      5.84     28.0   28.6   29.2\n",
      "\u001b[90m3\u001b[39m pressure              0         1     \u001b[4m9\u001b[24m963.    \u001b[4m1\u001b[24m384.    -\u001b[31m\u001b[4m2\u001b[24m12\u001b[39m\u001b[31m0\u001b[39m\u001b[31m.\u001b[39m  \u001b[4m9\u001b[24m935.  \u001b[4m9\u001b[24m970. \n",
      "\u001b[90m4\u001b[39m altitude              6         0.999  -\u001b[31m14\u001b[39m\u001b[31m.\u001b[39m\u001b[31m3\u001b[39m      2.65    -\u001b[31m17\u001b[39m\u001b[31m.\u001b[39m\u001b[31m6\u001b[39m  -\u001b[31m16\u001b[39m\u001b[31m.\u001b[39m\u001b[31m3\u001b[39m  -\u001b[31m13\u001b[39m\u001b[31m.\u001b[39m\u001b[31m5\u001b[39m\n",
      "\u001b[90m5\u001b[39m soilmiosture          0         1      244.      76.2    -\u001b[31m243\u001b[39m    171    233  \n",
      "\u001b[90m6\u001b[39m note                  0         1        1.88     1.15      0      1      2  \n",
      "\u001b[90m7\u001b[39m status                0         1        0.704    0.457     0      0      1  \n",
      "     p75   p100 hist \n",
      "\u001b[90m1\u001b[39m \u001b[4m3\u001b[24m516.   \u001b[4m4\u001b[24m688  ▇▇▇▇▇\n",
      "\u001b[90m2\u001b[39m   30.0   179. ▇▁▁▁▁\n",
      "\u001b[90m3\u001b[39m \u001b[4m9\u001b[24m976.  \u001b[4m9\u001b[24m\u001b[4m9\u001b[24m931. ▇▁▁▁▁\n",
      "\u001b[90m4\u001b[39m  -\u001b[31m13\u001b[39m\u001b[31m.\u001b[39m\u001b[31m0\u001b[39m   117. ▇▁▁▁▁\n",
      "\u001b[90m5\u001b[39m  326     480  ▁▁▇▇▃\n",
      "\u001b[90m6\u001b[39m    3       3  ▅▂▁▆▇\n",
      "\u001b[90m7\u001b[39m    1       1  ▃▁▁▁▇\n"
     ]
    },
    {
     "ename": "ERROR",
     "evalue": "Error in is.null(text_repr) || nchar(text_repr) == 0L: 'length = 17' in coercion to 'logical(1)'\n",
     "output_type": "error",
     "traceback": [
      "Error in is.null(text_repr) || nchar(text_repr) == 0L: 'length = 17' in coercion to 'logical(1)'\nTraceback:\n"
     ]
    }
   ],
   "source": [
    "# Load the dataset\n",
    "data <- read.csv(\"/kaggle/input/irrigation-scheduling/Irrigation Scheduling.csv\")\n",
    "\n",
    "# View structure and summary\n",
    "str(data)\n",
    "summary(data)\n",
    "skim(data)\n"
   ]
  },
  {
   "cell_type": "code",
   "execution_count": null,
   "id": "93bbb023",
   "metadata": {
    "execution": {
     "iopub.execute_input": "2025-04-19T04:44:38.949542Z",
     "iopub.status.busy": "2025-04-19T04:44:38.948372Z",
     "iopub.status.idle": "2025-04-19T04:44:39.563778Z",
     "shell.execute_reply": "2025-04-19T04:44:39.562528Z"
    },
    "papermill": {
     "duration": null,
     "end_time": null,
     "exception": null,
     "start_time": null,
     "status": "pending"
    },
    "tags": []
   },
   "outputs": [],
   "source": [
    "# Check for NA values\n",
    "colSums(is.na(data))\n",
    "\n",
    "# Visualize missing data\n",
    "plot_missing(data)\n"
   ]
  },
  {
   "cell_type": "code",
   "execution_count": null,
   "id": "c60309c9",
   "metadata": {
    "execution": {
     "iopub.execute_input": "2025-04-19T04:44:43.358791Z",
     "iopub.status.busy": "2025-04-19T04:44:43.357589Z",
     "iopub.status.idle": "2025-04-19T04:44:44.590399Z",
     "shell.execute_reply": "2025-04-19T04:44:44.589332Z"
    },
    "papermill": {
     "duration": null,
     "end_time": null,
     "exception": null,
     "start_time": null,
     "status": "pending"
    },
    "tags": []
   },
   "outputs": [],
   "source": [
    "# Plot histograms for numeric variables\n",
    "plot_histogram(data)\n",
    "\n",
    "# Bar plots for categorical variables (if any)\n",
    "plot_bar(data)\n"
   ]
  },
  {
   "cell_type": "code",
   "execution_count": null,
   "id": "8c1359ad",
   "metadata": {
    "execution": {
     "iopub.execute_input": "2025-04-19T04:44:44.592952Z",
     "iopub.status.busy": "2025-04-19T04:44:44.592066Z",
     "iopub.status.idle": "2025-04-19T04:44:51.660627Z",
     "shell.execute_reply": "2025-04-19T04:44:51.659457Z"
    },
    "papermill": {
     "duration": null,
     "end_time": null,
     "exception": null,
     "start_time": null,
     "status": "pending"
    },
    "tags": []
   },
   "outputs": [],
   "source": [
    "# Correlation matrix for numeric variables\n",
    "numeric_data <- select_if(data, is.numeric)\n",
    "cor_matrix <- cor(numeric_data, use = \"complete.obs\")\n",
    "corrplot(cor_matrix, method = \"circle\", type = \"upper\")\n",
    "\n",
    "# Pair plots\n",
    "ggpairs(numeric_data)\n"
   ]
  },
  {
   "cell_type": "code",
   "execution_count": null,
   "id": "3daee58f",
   "metadata": {
    "execution": {
     "iopub.execute_input": "2025-04-19T04:44:51.663156Z",
     "iopub.status.busy": "2025-04-19T04:44:51.662260Z",
     "iopub.status.idle": "2025-04-19T04:44:51.780888Z",
     "shell.execute_reply": "2025-04-19T04:44:51.779717Z"
    },
    "papermill": {
     "duration": null,
     "end_time": null,
     "exception": null,
     "start_time": null,
     "status": "pending"
    },
    "tags": []
   },
   "outputs": [],
   "source": [
    "# Boxplots for numeric variables\n",
    "numeric_cols <- colnames(numeric_data)\n",
    "par(mfrow = c(2, 2))  # Adjust layout\n",
    "for(col in numeric_cols){\n",
    "  boxplot(numeric_data[[col]], main = col)\n",
    "}\n"
   ]
  },
  {
   "cell_type": "code",
   "execution_count": null,
   "id": "c3e88105",
   "metadata": {
    "execution": {
     "iopub.execute_input": "2025-04-19T04:44:51.783487Z",
     "iopub.status.busy": "2025-04-19T04:44:51.782573Z",
     "iopub.status.idle": "2025-04-19T04:44:52.123569Z",
     "shell.execute_reply": "2025-04-19T04:44:52.122461Z"
    },
    "papermill": {
     "duration": null,
     "end_time": null,
     "exception": null,
     "start_time": null,
     "status": "pending"
    },
    "tags": []
   },
   "outputs": [],
   "source": [
    "# Scatter plots for selected relationships\n",
    "ggplot(data, aes(x = data[[1]], y = data[[2]])) + \n",
    "  geom_point() + \n",
    "  labs(title = paste(names(data)[1], \"vs\", names(data)[2]))\n"
   ]
  },
  {
   "cell_type": "code",
   "execution_count": null,
   "id": "ae3934e8",
   "metadata": {
    "papermill": {
     "duration": null,
     "end_time": null,
     "exception": null,
     "start_time": null,
     "status": "pending"
    },
    "tags": []
   },
   "outputs": [],
   "source": []
  },
  {
   "cell_type": "code",
   "execution_count": null,
   "id": "1a5d8f4a",
   "metadata": {
    "papermill": {
     "duration": null,
     "end_time": null,
     "exception": null,
     "start_time": null,
     "status": "pending"
    },
    "tags": []
   },
   "outputs": [],
   "source": []
  },
  {
   "cell_type": "code",
   "execution_count": null,
   "id": "43c46923",
   "metadata": {
    "papermill": {
     "duration": null,
     "end_time": null,
     "exception": null,
     "start_time": null,
     "status": "pending"
    },
    "tags": []
   },
   "outputs": [],
   "source": []
  }
 ],
 "metadata": {
  "kaggle": {
   "accelerator": "none",
   "dataSources": [
    {
     "datasetId": 3678193,
     "sourceId": 6382389,
     "sourceType": "datasetVersion"
    }
   ],
   "dockerImageVersionId": 30749,
   "isGpuEnabled": false,
   "isInternetEnabled": true,
   "language": "r",
   "sourceType": "notebook"
  },
  "kernelspec": {
   "display_name": "R",
   "language": "R",
   "name": "ir"
  },
  "language_info": {
   "codemirror_mode": "r",
   "file_extension": ".r",
   "mimetype": "text/x-r-source",
   "name": "R",
   "pygments_lexer": "r",
   "version": "4.4.0"
  },
  "papermill": {
   "default_parameters": {},
   "duration": 10.884004,
   "end_time": "2025-04-19T04:48:21.379025",
   "environment_variables": {},
   "exception": true,
   "input_path": "__notebook__.ipynb",
   "output_path": "__notebook__.ipynb",
   "parameters": {},
   "start_time": "2025-04-19T04:48:10.495021",
   "version": "2.6.0"
  }
 },
 "nbformat": 4,
 "nbformat_minor": 5
}
